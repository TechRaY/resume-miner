{
 "cells": [
  {
   "cell_type": "code",
   "execution_count": 5,
   "id": "9df47e5a",
   "metadata": {},
   "outputs": [
    {
     "name": "stdout",
     "output_type": "stream",
     "text": [
      "NAME                          - Alice Clark\n",
      "\n",
      "LOCATION                      - Delhi\n",
      "\n",
      "DESIGNATION                   - Stream Analytics\n",
      "\n",
      "DESIGNATION                   - Software Engineer\n",
      "\n",
      "COMPANIES WORKED AT           - Microsoft –\n",
      "\n",
      "DEGREE                        - Indian Institute of Technology – Mumbai\n",
      "\n",
      "SKILLS                        - Machine Learning, Natural Language Processing, and Big Data Handling    ADDITIONAL INFORMATION  Professional Skills  • Excellent analytical, problem solving, communication, knowledge transfer and interpersonal\n",
      "\n",
      "NAME                          - Michael Smith\n",
      "\n",
      "EMAIL ADDRESS                 - indeed.com/r/falicent/140749dace5dc26f\n",
      "\n",
      "COMPANIES WORKED AT           - Microsoft -\n",
      "\n",
      "COMPANIES WORKED AT           - Microsoft\n",
      "\n",
      "COMPANIES WORKED AT           - Microsoft\n",
      "\n",
      "COMPANIES WORKED AT           - Microsoft\n",
      "\n",
      "COMPANIES WORKED AT           - Microsoft\n",
      "\n",
      "DEGREE                        - The University of Manchester - UK\n",
      "\n",
      "SKILLS                        - problem solving (Less than 1 year), project lifecycle (Less than 1 year), project\n",
      "\n",
      "NAME                          - Omkar Pathak\n",
      "\n",
      "DESIGNATION                   - SOFTWARE ENGINEER ·\n",
      "\n",
      "LOCATION                      - Pune\n",
      "\n",
      "NAME                          - Akhil Nigam\n",
      "\n",
      "DESIGNATION                   - Full Stack Developer\n",
      "\n",
      "LOCATION                      - Pune\n",
      "\n",
      "NAME                          - Devesh Chandak\n",
      "\n",
      "DESIGNATION                   - Student Head\n",
      "\n",
      "DESIGNATION                   - Engineering Pune Institute of Computer Technology 06/2017\n",
      "\n",
      "NAME                          - Kumar Rajwani\n",
      "\n",
      "DESIGNATION                   - Machine Learning Engineer A machine learning engineer passionate about cutting\n",
      "\n"
     ]
    }
   ],
   "source": [
    "import spacy\n",
    "import pickle\n",
    "import random\n",
    "import sys, fitz\n",
    "\n",
    "nlp_test = spacy.load('nlp_model')\n",
    "\n",
    "file_names = [\"Alice.pdf\", \"Smith.pdf\", \"Omkar.pdf\", \"Akhil.pdf\", \"Devesh.pdf\" , \"Kumar.pdf\"]\n",
    "\n",
    "for file_name in file_names:\n",
    "    doc = fitz.open(file_name)\n",
    "    text = \"\"\n",
    "    for page in doc:\n",
    "        text = text + str(page.getText())\n",
    "        tx = \" \".join(text.split('\\n'))\n",
    "\n",
    "    doc = nlp_test(tx)\n",
    "    for ent in doc.ents:\n",
    "        print(f'{ent.label_.upper():{30}}- {ent.text}')\n",
    "        print()"
   ]
  },
  {
   "cell_type": "code",
   "execution_count": null,
   "id": "51d5c20b",
   "metadata": {},
   "outputs": [],
   "source": []
  }
 ],
 "metadata": {
  "kernelspec": {
   "display_name": "Python 3",
   "language": "python",
   "name": "python3"
  },
  "language_info": {
   "codemirror_mode": {
    "name": "ipython",
    "version": 3
   },
   "file_extension": ".py",
   "mimetype": "text/x-python",
   "name": "python",
   "nbconvert_exporter": "python",
   "pygments_lexer": "ipython3",
   "version": "3.8.8"
  }
 },
 "nbformat": 4,
 "nbformat_minor": 5
}
